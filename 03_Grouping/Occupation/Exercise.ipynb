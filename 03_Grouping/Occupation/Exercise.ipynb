{
 "cells": [
  {
   "cell_type": "markdown",
   "metadata": {},
   "source": [
    "# Occupation"
   ]
  },
  {
   "cell_type": "markdown",
   "metadata": {},
   "source": [
    "### Introduction:\n",
    "\n",
    "Special thanks to: https://github.com/justmarkham for sharing the dataset and materials.\n",
    "\n",
    "### Step 1. Import the necessary libraries"
   ]
  },
  {
   "cell_type": "code",
   "execution_count": 1,
   "metadata": {
    "collapsed": false
   },
   "outputs": [],
   "source": [
    "import pandas as pd \n",
    "import numpy as np "
   ]
  },
  {
   "cell_type": "markdown",
   "metadata": {},
   "source": [
    "### Step 2. Import the dataset from this [address](https://raw.githubusercontent.com/justmarkham/DAT8/master/data/u.user). "
   ]
  },
  {
   "cell_type": "markdown",
   "metadata": {},
   "source": [
    "### Step 3. Assign it to a variable called users."
   ]
  },
  {
   "cell_type": "code",
   "execution_count": 2,
   "metadata": {
    "collapsed": false
   },
   "outputs": [
    {
     "output_type": "execute_result",
     "data": {
      "text/plain": [
       "   user_id  age gender  occupation zip_code\n",
       "0        1   24      M  technician    85711\n",
       "1        2   53      F       other    94043\n",
       "2        3   23      M      writer    32067\n",
       "3        4   24      M  technician    43537\n",
       "4        5   33      F       other    15213"
      ],
      "text/html": "<div>\n<style scoped>\n    .dataframe tbody tr th:only-of-type {\n        vertical-align: middle;\n    }\n\n    .dataframe tbody tr th {\n        vertical-align: top;\n    }\n\n    .dataframe thead th {\n        text-align: right;\n    }\n</style>\n<table border=\"1\" class=\"dataframe\">\n  <thead>\n    <tr style=\"text-align: right;\">\n      <th></th>\n      <th>user_id</th>\n      <th>age</th>\n      <th>gender</th>\n      <th>occupation</th>\n      <th>zip_code</th>\n    </tr>\n  </thead>\n  <tbody>\n    <tr>\n      <th>0</th>\n      <td>1</td>\n      <td>24</td>\n      <td>M</td>\n      <td>technician</td>\n      <td>85711</td>\n    </tr>\n    <tr>\n      <th>1</th>\n      <td>2</td>\n      <td>53</td>\n      <td>F</td>\n      <td>other</td>\n      <td>94043</td>\n    </tr>\n    <tr>\n      <th>2</th>\n      <td>3</td>\n      <td>23</td>\n      <td>M</td>\n      <td>writer</td>\n      <td>32067</td>\n    </tr>\n    <tr>\n      <th>3</th>\n      <td>4</td>\n      <td>24</td>\n      <td>M</td>\n      <td>technician</td>\n      <td>43537</td>\n    </tr>\n    <tr>\n      <th>4</th>\n      <td>5</td>\n      <td>33</td>\n      <td>F</td>\n      <td>other</td>\n      <td>15213</td>\n    </tr>\n  </tbody>\n</table>\n</div>"
     },
     "metadata": {},
     "execution_count": 2
    }
   ],
   "source": [
    "users = pd.read_csv('https://raw.githubusercontent.com/justmarkham/DAT8/master/data/u.user', sep = '|')\n",
    "users.head()"
   ]
  },
  {
   "cell_type": "markdown",
   "metadata": {},
   "source": [
    "### Step 4. Discover what is the mean age per occupation"
   ]
  },
  {
   "cell_type": "code",
   "execution_count": 3,
   "metadata": {
    "collapsed": false
   },
   "outputs": [
    {
     "output_type": "execute_result",
     "data": {
      "text/plain": [
       "occupation\n",
       "student          22.081633\n",
       "none             26.555556\n",
       "entertainment    29.222222\n",
       "artist           31.392857\n",
       "homemaker        32.571429\n",
       "programmer       33.121212\n",
       "technician       33.148148\n",
       "other            34.523810\n",
       "scientist        35.548387\n",
       "salesman         35.666667\n",
       "writer           36.311111\n",
       "engineer         36.388060\n",
       "lawyer           36.750000\n",
       "marketing        37.615385\n",
       "executive        38.718750\n",
       "administrator    38.746835\n",
       "librarian        40.000000\n",
       "healthcare       41.562500\n",
       "educator         42.010526\n",
       "doctor           43.571429\n",
       "retired          63.071429\n",
       "Name: age, dtype: float64"
      ]
     },
     "metadata": {},
     "execution_count": 3
    }
   ],
   "source": [
    "g = users.groupby('occupation').agg(np.mean)\n",
    "g.age.sort_values()"
   ]
  },
  {
   "cell_type": "markdown",
   "metadata": {},
   "source": [
    "### Step 5. Discover the Male ratio per occupation and sort it from the most to the least"
   ]
  },
  {
   "cell_type": "code",
   "execution_count": 8,
   "metadata": {
    "collapsed": false
   },
   "outputs": [
    {
     "output_type": "execute_result",
     "data": {
      "text/plain": [
       "                      user_id  age  zip_code\n",
       "occupation    gender                        \n",
       "administrator F            36   36        36\n",
       "              M            43   43        43\n",
       "artist        F            13   13        13\n",
       "              M            15   15        15\n",
       "doctor        M             7    7         7"
      ],
      "text/html": "<div>\n<style scoped>\n    .dataframe tbody tr th:only-of-type {\n        vertical-align: middle;\n    }\n\n    .dataframe tbody tr th {\n        vertical-align: top;\n    }\n\n    .dataframe thead th {\n        text-align: right;\n    }\n</style>\n<table border=\"1\" class=\"dataframe\">\n  <thead>\n    <tr style=\"text-align: right;\">\n      <th></th>\n      <th></th>\n      <th>user_id</th>\n      <th>age</th>\n      <th>zip_code</th>\n    </tr>\n    <tr>\n      <th>occupation</th>\n      <th>gender</th>\n      <th></th>\n      <th></th>\n      <th></th>\n    </tr>\n  </thead>\n  <tbody>\n    <tr>\n      <th rowspan=\"2\" valign=\"top\">administrator</th>\n      <th>F</th>\n      <td>36</td>\n      <td>36</td>\n      <td>36</td>\n    </tr>\n    <tr>\n      <th>M</th>\n      <td>43</td>\n      <td>43</td>\n      <td>43</td>\n    </tr>\n    <tr>\n      <th rowspan=\"2\" valign=\"top\">artist</th>\n      <th>F</th>\n      <td>13</td>\n      <td>13</td>\n      <td>13</td>\n    </tr>\n    <tr>\n      <th>M</th>\n      <td>15</td>\n      <td>15</td>\n      <td>15</td>\n    </tr>\n    <tr>\n      <th>doctor</th>\n      <th>M</th>\n      <td>7</td>\n      <td>7</td>\n      <td>7</td>\n    </tr>\n  </tbody>\n</table>\n</div>"
     },
     "metadata": {},
     "execution_count": 8
    }
   ],
   "source": [
    "\n",
    "# first way, without pivot table\n",
    "g = users.groupby(['occupation', 'gender']).count() # get male and female counts\n",
    "occupations = g.index.get_level_values(0).unique() # get list of unique occupations\n",
    "df_occ = pd.DataFrame([], occupations) # make data frame to store results\n",
    "for i,occ in enumerate(occupations):\n",
    "    try:\n",
    "        males = g.loc[(occ, 'M'),'age']\n",
    "    except KeyError:\n",
    "        males = 0\n",
    "    try:\n",
    "        fems = g.loc[(occ, 'F'),'age']\n",
    "    except KeyError:\n",
    "        fems = 0\n",
    "    \n",
    "    if males == 0:\n",
    "        df_occ.loc[occ, 'MFR'] = 0\n",
    "    elif fems == 0:\n",
    "        df_occ.loc[occ, 'MFR'] = np.Inf\n",
    "    else:\n",
    "        df_occ.loc[occ, 'MFR'] = males / fems\n",
    "\n",
    "df_occ.MFR.sort_values()"
   ]
  },
  {
   "cell_type": "code",
   "execution_count": 57,
   "metadata": {},
   "outputs": [
    {
     "output_type": "execute_result",
     "data": {
      "text/plain": [
       "gender          F    M   MF_ratio\n",
       "occupation                       \n",
       "homemaker       6    1   0.166667\n",
       "healthcare     11    5   0.454545\n",
       "librarian      29   22   0.758621\n",
       "artist         13   15   1.153846\n",
       "administrator  36   43   1.194444\n",
       "none            4    5   1.250000\n",
       "writer         19   26   1.368421\n",
       "marketing      10   16   1.600000\n",
       "other          36   69   1.916667\n",
       "student        60  136   2.266667\n",
       "educator       26   69   2.653846\n",
       "salesman        3    9   3.000000\n",
       "lawyer          2   10   5.000000\n",
       "entertainment   2   16   8.000000\n",
       "scientist       3   28   9.333333\n",
       "executive       3   29   9.666667\n",
       "programmer      6   60  10.000000\n",
       "retired         1   13  13.000000\n",
       "technician      1   26  26.000000\n",
       "engineer        2   65  32.500000\n",
       "doctor          0    7        inf"
      ],
      "text/html": "<div>\n<style scoped>\n    .dataframe tbody tr th:only-of-type {\n        vertical-align: middle;\n    }\n\n    .dataframe tbody tr th {\n        vertical-align: top;\n    }\n\n    .dataframe thead th {\n        text-align: right;\n    }\n</style>\n<table border=\"1\" class=\"dataframe\">\n  <thead>\n    <tr style=\"text-align: right;\">\n      <th>gender</th>\n      <th>F</th>\n      <th>M</th>\n      <th>MF_ratio</th>\n    </tr>\n    <tr>\n      <th>occupation</th>\n      <th></th>\n      <th></th>\n      <th></th>\n    </tr>\n  </thead>\n  <tbody>\n    <tr>\n      <th>homemaker</th>\n      <td>6</td>\n      <td>1</td>\n      <td>0.166667</td>\n    </tr>\n    <tr>\n      <th>healthcare</th>\n      <td>11</td>\n      <td>5</td>\n      <td>0.454545</td>\n    </tr>\n    <tr>\n      <th>librarian</th>\n      <td>29</td>\n      <td>22</td>\n      <td>0.758621</td>\n    </tr>\n    <tr>\n      <th>artist</th>\n      <td>13</td>\n      <td>15</td>\n      <td>1.153846</td>\n    </tr>\n    <tr>\n      <th>administrator</th>\n      <td>36</td>\n      <td>43</td>\n      <td>1.194444</td>\n    </tr>\n    <tr>\n      <th>none</th>\n      <td>4</td>\n      <td>5</td>\n      <td>1.250000</td>\n    </tr>\n    <tr>\n      <th>writer</th>\n      <td>19</td>\n      <td>26</td>\n      <td>1.368421</td>\n    </tr>\n    <tr>\n      <th>marketing</th>\n      <td>10</td>\n      <td>16</td>\n      <td>1.600000</td>\n    </tr>\n    <tr>\n      <th>other</th>\n      <td>36</td>\n      <td>69</td>\n      <td>1.916667</td>\n    </tr>\n    <tr>\n      <th>student</th>\n      <td>60</td>\n      <td>136</td>\n      <td>2.266667</td>\n    </tr>\n    <tr>\n      <th>educator</th>\n      <td>26</td>\n      <td>69</td>\n      <td>2.653846</td>\n    </tr>\n    <tr>\n      <th>salesman</th>\n      <td>3</td>\n      <td>9</td>\n      <td>3.000000</td>\n    </tr>\n    <tr>\n      <th>lawyer</th>\n      <td>2</td>\n      <td>10</td>\n      <td>5.000000</td>\n    </tr>\n    <tr>\n      <th>entertainment</th>\n      <td>2</td>\n      <td>16</td>\n      <td>8.000000</td>\n    </tr>\n    <tr>\n      <th>scientist</th>\n      <td>3</td>\n      <td>28</td>\n      <td>9.333333</td>\n    </tr>\n    <tr>\n      <th>executive</th>\n      <td>3</td>\n      <td>29</td>\n      <td>9.666667</td>\n    </tr>\n    <tr>\n      <th>programmer</th>\n      <td>6</td>\n      <td>60</td>\n      <td>10.000000</td>\n    </tr>\n    <tr>\n      <th>retired</th>\n      <td>1</td>\n      <td>13</td>\n      <td>13.000000</td>\n    </tr>\n    <tr>\n      <th>technician</th>\n      <td>1</td>\n      <td>26</td>\n      <td>26.000000</td>\n    </tr>\n    <tr>\n      <th>engineer</th>\n      <td>2</td>\n      <td>65</td>\n      <td>32.500000</td>\n    </tr>\n    <tr>\n      <th>doctor</th>\n      <td>0</td>\n      <td>7</td>\n      <td>inf</td>\n    </tr>\n  </tbody>\n</table>\n</div>"
     },
     "metadata": {},
     "execution_count": 57
    }
   ],
   "source": [
    "# preferred way, with pivot table. Can easily set doctor values to zero, don't need to pre-allocate a data table, etc.\n",
    "piv = users.pivot_table(index='occupation', columns='gender', aggfunc='size', fill_value=0) # compare aggfunct='count', size is what we want, counter-intuitively.\n",
    "piv['MF_ratio'] = piv.M / piv.F\n",
    "piv.sort_values(by = 'MF_ratio', axis = 0, inplace=True)\n",
    "piv"
   ]
  },
  {
   "cell_type": "markdown",
   "metadata": {},
   "source": [
    "### Step 6. For each occupation, calculate the minimum and maximum ages"
   ]
  },
  {
   "cell_type": "code",
   "execution_count": 56,
   "metadata": {
    "collapsed": false
   },
   "outputs": [
    {
     "output_type": "execute_result",
     "data": {
      "text/plain": [
       "               min_age  max_age\n",
       "occupation                     \n",
       "student              7       42\n",
       "none                11       55\n",
       "other               13       64\n",
       "entertainment       15       50\n",
       "writer              18       60\n",
       "salesman            18       66\n",
       "artist              19       48\n",
       "homemaker           20       50\n",
       "programmer          20       63\n",
       "lawyer              21       53\n",
       "technician          21       55\n",
       "administrator       21       70\n",
       "healthcare          22       62\n",
       "executive           22       69\n",
       "engineer            22       70\n",
       "scientist           23       55\n",
       "educator            23       63\n",
       "librarian           23       69\n",
       "marketing           24       55\n",
       "doctor              28       64\n",
       "retired             51       73"
      ],
      "text/html": "<div>\n<style scoped>\n    .dataframe tbody tr th:only-of-type {\n        vertical-align: middle;\n    }\n\n    .dataframe tbody tr th {\n        vertical-align: top;\n    }\n\n    .dataframe thead th {\n        text-align: right;\n    }\n</style>\n<table border=\"1\" class=\"dataframe\">\n  <thead>\n    <tr style=\"text-align: right;\">\n      <th></th>\n      <th>min_age</th>\n      <th>max_age</th>\n    </tr>\n    <tr>\n      <th>occupation</th>\n      <th></th>\n      <th></th>\n    </tr>\n  </thead>\n  <tbody>\n    <tr>\n      <th>student</th>\n      <td>7</td>\n      <td>42</td>\n    </tr>\n    <tr>\n      <th>none</th>\n      <td>11</td>\n      <td>55</td>\n    </tr>\n    <tr>\n      <th>other</th>\n      <td>13</td>\n      <td>64</td>\n    </tr>\n    <tr>\n      <th>entertainment</th>\n      <td>15</td>\n      <td>50</td>\n    </tr>\n    <tr>\n      <th>writer</th>\n      <td>18</td>\n      <td>60</td>\n    </tr>\n    <tr>\n      <th>salesman</th>\n      <td>18</td>\n      <td>66</td>\n    </tr>\n    <tr>\n      <th>artist</th>\n      <td>19</td>\n      <td>48</td>\n    </tr>\n    <tr>\n      <th>homemaker</th>\n      <td>20</td>\n      <td>50</td>\n    </tr>\n    <tr>\n      <th>programmer</th>\n      <td>20</td>\n      <td>63</td>\n    </tr>\n    <tr>\n      <th>lawyer</th>\n      <td>21</td>\n      <td>53</td>\n    </tr>\n    <tr>\n      <th>technician</th>\n      <td>21</td>\n      <td>55</td>\n    </tr>\n    <tr>\n      <th>administrator</th>\n      <td>21</td>\n      <td>70</td>\n    </tr>\n    <tr>\n      <th>healthcare</th>\n      <td>22</td>\n      <td>62</td>\n    </tr>\n    <tr>\n      <th>executive</th>\n      <td>22</td>\n      <td>69</td>\n    </tr>\n    <tr>\n      <th>engineer</th>\n      <td>22</td>\n      <td>70</td>\n    </tr>\n    <tr>\n      <th>scientist</th>\n      <td>23</td>\n      <td>55</td>\n    </tr>\n    <tr>\n      <th>educator</th>\n      <td>23</td>\n      <td>63</td>\n    </tr>\n    <tr>\n      <th>librarian</th>\n      <td>23</td>\n      <td>69</td>\n    </tr>\n    <tr>\n      <th>marketing</th>\n      <td>24</td>\n      <td>55</td>\n    </tr>\n    <tr>\n      <th>doctor</th>\n      <td>28</td>\n      <td>64</td>\n    </tr>\n    <tr>\n      <th>retired</th>\n      <td>51</td>\n      <td>73</td>\n    </tr>\n  </tbody>\n</table>\n</div>"
     },
     "metadata": {},
     "execution_count": 56
    }
   ],
   "source": [
    "# love this agg magic\n",
    "t = users.groupby('occupation').agg(min_age = ('age', 'min'), max_age = ('age', 'max')).sort_values(by=['min_age', 'max_age'])\n",
    "\n",
    "t"
   ]
  },
  {
   "cell_type": "markdown",
   "metadata": {},
   "source": [
    "### Step 7. For each combination of occupation and gender, calculate the mean age"
   ]
  },
  {
   "cell_type": "code",
   "execution_count": 60,
   "metadata": {
    "collapsed": false
   },
   "outputs": [
    {
     "output_type": "execute_result",
     "data": {
      "text/plain": [
       "occupation     gender\n",
       "administrator  F         40.638889\n",
       "               M         37.162791\n",
       "artist         F         30.307692\n",
       "               M         32.333333\n",
       "doctor         M         43.571429\n",
       "educator       F         39.115385\n",
       "               M         43.101449\n",
       "engineer       F         29.500000\n",
       "               M         36.600000\n",
       "entertainment  F         31.000000\n",
       "               M         29.000000\n",
       "executive      F         44.000000\n",
       "               M         38.172414\n",
       "healthcare     F         39.818182\n",
       "               M         45.400000\n",
       "homemaker      F         34.166667\n",
       "               M         23.000000\n",
       "lawyer         F         39.500000\n",
       "               M         36.200000\n",
       "librarian      F         40.000000\n",
       "               M         40.000000\n",
       "marketing      F         37.200000\n",
       "               M         37.875000\n",
       "none           F         36.500000\n",
       "               M         18.600000\n",
       "other          F         35.472222\n",
       "               M         34.028986\n",
       "programmer     F         32.166667\n",
       "               M         33.216667\n",
       "retired        F         70.000000\n",
       "               M         62.538462\n",
       "salesman       F         27.000000\n",
       "               M         38.555556\n",
       "scientist      F         28.333333\n",
       "               M         36.321429\n",
       "student        F         20.750000\n",
       "               M         22.669118\n",
       "technician     F         38.000000\n",
       "               M         32.961538\n",
       "writer         F         37.631579\n",
       "               M         35.346154\n",
       "Name: age, dtype: float64"
      ]
     },
     "metadata": {},
     "execution_count": 60
    }
   ],
   "source": [
    "mean_ages = users.groupby(['occupation', 'gender']).mean().age\n",
    "mean_ages"
   ]
  },
  {
   "cell_type": "markdown",
   "metadata": {},
   "source": [
    "### Step 8.  For each occupation present the percentage of women and men"
   ]
  },
  {
   "cell_type": "code",
   "execution_count": 75,
   "metadata": {
    "collapsed": false
   },
   "outputs": [
    {
     "output_type": "execute_result",
     "data": {
      "text/plain": [
       "gender          F    M  percent_F  percent_M\n",
       "occupation                                  \n",
       "administrator  36   43       45.6       54.4\n",
       "artist         13   15       46.4       53.6\n",
       "doctor          0    7        0.0      100.0\n",
       "educator       26   69       27.4       72.6\n",
       "engineer        2   65        3.0       97.0\n",
       "entertainment   2   16       11.1       88.9\n",
       "executive       3   29        9.4       90.6\n",
       "healthcare     11    5       68.8       31.2\n",
       "homemaker       6    1       85.7       14.3\n",
       "lawyer          2   10       16.7       83.3\n",
       "librarian      29   22       56.9       43.1\n",
       "marketing      10   16       38.5       61.5\n",
       "none            4    5       44.4       55.6\n",
       "other          36   69       34.3       65.7\n",
       "programmer      6   60        9.1       90.9\n",
       "retired         1   13        7.1       92.9\n",
       "salesman        3    9       25.0       75.0\n",
       "scientist       3   28        9.7       90.3\n",
       "student        60  136       30.6       69.4\n",
       "technician      1   26        3.7       96.3\n",
       "writer         19   26       42.2       57.8"
      ],
      "text/html": "<div>\n<style scoped>\n    .dataframe tbody tr th:only-of-type {\n        vertical-align: middle;\n    }\n\n    .dataframe tbody tr th {\n        vertical-align: top;\n    }\n\n    .dataframe thead th {\n        text-align: right;\n    }\n</style>\n<table border=\"1\" class=\"dataframe\">\n  <thead>\n    <tr style=\"text-align: right;\">\n      <th>gender</th>\n      <th>F</th>\n      <th>M</th>\n      <th>percent_F</th>\n      <th>percent_M</th>\n    </tr>\n    <tr>\n      <th>occupation</th>\n      <th></th>\n      <th></th>\n      <th></th>\n      <th></th>\n    </tr>\n  </thead>\n  <tbody>\n    <tr>\n      <th>administrator</th>\n      <td>36</td>\n      <td>43</td>\n      <td>45.6</td>\n      <td>54.4</td>\n    </tr>\n    <tr>\n      <th>artist</th>\n      <td>13</td>\n      <td>15</td>\n      <td>46.4</td>\n      <td>53.6</td>\n    </tr>\n    <tr>\n      <th>doctor</th>\n      <td>0</td>\n      <td>7</td>\n      <td>0.0</td>\n      <td>100.0</td>\n    </tr>\n    <tr>\n      <th>educator</th>\n      <td>26</td>\n      <td>69</td>\n      <td>27.4</td>\n      <td>72.6</td>\n    </tr>\n    <tr>\n      <th>engineer</th>\n      <td>2</td>\n      <td>65</td>\n      <td>3.0</td>\n      <td>97.0</td>\n    </tr>\n    <tr>\n      <th>entertainment</th>\n      <td>2</td>\n      <td>16</td>\n      <td>11.1</td>\n      <td>88.9</td>\n    </tr>\n    <tr>\n      <th>executive</th>\n      <td>3</td>\n      <td>29</td>\n      <td>9.4</td>\n      <td>90.6</td>\n    </tr>\n    <tr>\n      <th>healthcare</th>\n      <td>11</td>\n      <td>5</td>\n      <td>68.8</td>\n      <td>31.2</td>\n    </tr>\n    <tr>\n      <th>homemaker</th>\n      <td>6</td>\n      <td>1</td>\n      <td>85.7</td>\n      <td>14.3</td>\n    </tr>\n    <tr>\n      <th>lawyer</th>\n      <td>2</td>\n      <td>10</td>\n      <td>16.7</td>\n      <td>83.3</td>\n    </tr>\n    <tr>\n      <th>librarian</th>\n      <td>29</td>\n      <td>22</td>\n      <td>56.9</td>\n      <td>43.1</td>\n    </tr>\n    <tr>\n      <th>marketing</th>\n      <td>10</td>\n      <td>16</td>\n      <td>38.5</td>\n      <td>61.5</td>\n    </tr>\n    <tr>\n      <th>none</th>\n      <td>4</td>\n      <td>5</td>\n      <td>44.4</td>\n      <td>55.6</td>\n    </tr>\n    <tr>\n      <th>other</th>\n      <td>36</td>\n      <td>69</td>\n      <td>34.3</td>\n      <td>65.7</td>\n    </tr>\n    <tr>\n      <th>programmer</th>\n      <td>6</td>\n      <td>60</td>\n      <td>9.1</td>\n      <td>90.9</td>\n    </tr>\n    <tr>\n      <th>retired</th>\n      <td>1</td>\n      <td>13</td>\n      <td>7.1</td>\n      <td>92.9</td>\n    </tr>\n    <tr>\n      <th>salesman</th>\n      <td>3</td>\n      <td>9</td>\n      <td>25.0</td>\n      <td>75.0</td>\n    </tr>\n    <tr>\n      <th>scientist</th>\n      <td>3</td>\n      <td>28</td>\n      <td>9.7</td>\n      <td>90.3</td>\n    </tr>\n    <tr>\n      <th>student</th>\n      <td>60</td>\n      <td>136</td>\n      <td>30.6</td>\n      <td>69.4</td>\n    </tr>\n    <tr>\n      <th>technician</th>\n      <td>1</td>\n      <td>26</td>\n      <td>3.7</td>\n      <td>96.3</td>\n    </tr>\n    <tr>\n      <th>writer</th>\n      <td>19</td>\n      <td>26</td>\n      <td>42.2</td>\n      <td>57.8</td>\n    </tr>\n  </tbody>\n</table>\n</div>"
     },
     "metadata": {},
     "execution_count": 75
    }
   ],
   "source": [
    "piv = users.pivot_table(index='occupation', columns='gender', aggfunc='size', fill_value=0) # compare aggfunct='count', size is what we want, counter-intuitively.\n",
    "piv['total_users'] = piv['F'] + piv['M']\n",
    "piv['percent_F'] = np.round(piv['F'] / piv['total_users'] * 100, 1)\n",
    "piv['percent_M'] = np.round(piv['M'] / piv['total_users'] * 100,1)\n",
    "piv = piv.drop('total_users', axis=1)\n",
    "piv"
   ]
  },
  {
   "cell_type": "code",
   "execution_count": null,
   "metadata": {},
   "outputs": [],
   "source": [
    "\n"
   ]
  }
 ],
 "metadata": {
  "kernelspec": {
   "name": "python3",
   "display_name": "Python 3.8.3 64-bit ('base': conda)",
   "metadata": {
    "interpreter": {
     "hash": "9fe336409bf8d1c21a3bedb40a72035b066e16950eddbec83b6c8b74e32600ee"
    }
   }
  },
  "language_info": {
   "codemirror_mode": {
    "name": "ipython",
    "version": 2
   },
   "file_extension": ".py",
   "mimetype": "text/x-python",
   "name": "python",
   "nbconvert_exporter": "python",
   "pygments_lexer": "ipython2",
   "version": "3.8.3-final"
  }
 },
 "nbformat": 4,
 "nbformat_minor": 0
}