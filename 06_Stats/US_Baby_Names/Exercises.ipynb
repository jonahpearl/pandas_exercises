{
 "cells": [
  {
   "cell_type": "markdown",
   "metadata": {},
   "source": [
    "# US - Baby Names"
   ]
  },
  {
   "cell_type": "markdown",
   "metadata": {},
   "source": [
    "### Introduction:\n",
    "\n",
    "We are going to use a subset of [US Baby Names](https://www.kaggle.com/kaggle/us-baby-names) from Kaggle.  \n",
    "In the file it will be names from 2004 until 2014\n",
    "\n",
    "\n",
    "### Step 1. Import the necessary libraries"
   ]
  },
  {
   "cell_type": "code",
   "execution_count": 1,
   "metadata": {
    "collapsed": false
   },
   "outputs": [],
   "source": [
    "import numpy as np \n",
    "import pandas as pd \n",
    "import matplotlib.pyplot as plt \n"
   ]
  },
  {
   "cell_type": "markdown",
   "metadata": {},
   "source": [
    "### Step 2. Import the dataset from this [address](https://raw.githubusercontent.com/guipsamora/pandas_exercises/master/06_Stats/US_Baby_Names/US_Baby_Names_right.csv). "
   ]
  },
  {
   "cell_type": "markdown",
   "metadata": {},
   "source": [
    "### Step 3. Assign it to a variable called baby_names."
   ]
  },
  {
   "cell_type": "code",
   "execution_count": 2,
   "metadata": {
    "collapsed": false
   },
   "outputs": [],
   "source": [
    "baby_names = pd.read_csv('US_Baby_Names_right.csv')"
   ]
  },
  {
   "cell_type": "markdown",
   "metadata": {},
   "source": [
    "### Step 4. See the first 10 entries"
   ]
  },
  {
   "cell_type": "code",
   "execution_count": 6,
   "metadata": {
    "collapsed": false
   },
   "outputs": [
    {
     "output_type": "execute_result",
     "data": {
      "text/plain": [
       "   Unnamed: 0     Id      Name  Year Gender State  Count\n",
       "0       11349  11350      Emma  2004      F    AK     62\n",
       "1       11350  11351   Madison  2004      F    AK     48\n",
       "2       11351  11352    Hannah  2004      F    AK     46\n",
       "3       11352  11353     Grace  2004      F    AK     44\n",
       "4       11353  11354     Emily  2004      F    AK     41\n",
       "5       11354  11355   Abigail  2004      F    AK     37\n",
       "6       11355  11356    Olivia  2004      F    AK     33\n",
       "7       11356  11357  Isabella  2004      F    AK     30\n",
       "8       11357  11358    Alyssa  2004      F    AK     29\n",
       "9       11358  11359    Sophia  2004      F    AK     28"
      ],
      "text/html": "<div>\n<style scoped>\n    .dataframe tbody tr th:only-of-type {\n        vertical-align: middle;\n    }\n\n    .dataframe tbody tr th {\n        vertical-align: top;\n    }\n\n    .dataframe thead th {\n        text-align: right;\n    }\n</style>\n<table border=\"1\" class=\"dataframe\">\n  <thead>\n    <tr style=\"text-align: right;\">\n      <th></th>\n      <th>Unnamed: 0</th>\n      <th>Id</th>\n      <th>Name</th>\n      <th>Year</th>\n      <th>Gender</th>\n      <th>State</th>\n      <th>Count</th>\n    </tr>\n  </thead>\n  <tbody>\n    <tr>\n      <th>0</th>\n      <td>11349</td>\n      <td>11350</td>\n      <td>Emma</td>\n      <td>2004</td>\n      <td>F</td>\n      <td>AK</td>\n      <td>62</td>\n    </tr>\n    <tr>\n      <th>1</th>\n      <td>11350</td>\n      <td>11351</td>\n      <td>Madison</td>\n      <td>2004</td>\n      <td>F</td>\n      <td>AK</td>\n      <td>48</td>\n    </tr>\n    <tr>\n      <th>2</th>\n      <td>11351</td>\n      <td>11352</td>\n      <td>Hannah</td>\n      <td>2004</td>\n      <td>F</td>\n      <td>AK</td>\n      <td>46</td>\n    </tr>\n    <tr>\n      <th>3</th>\n      <td>11352</td>\n      <td>11353</td>\n      <td>Grace</td>\n      <td>2004</td>\n      <td>F</td>\n      <td>AK</td>\n      <td>44</td>\n    </tr>\n    <tr>\n      <th>4</th>\n      <td>11353</td>\n      <td>11354</td>\n      <td>Emily</td>\n      <td>2004</td>\n      <td>F</td>\n      <td>AK</td>\n      <td>41</td>\n    </tr>\n    <tr>\n      <th>5</th>\n      <td>11354</td>\n      <td>11355</td>\n      <td>Abigail</td>\n      <td>2004</td>\n      <td>F</td>\n      <td>AK</td>\n      <td>37</td>\n    </tr>\n    <tr>\n      <th>6</th>\n      <td>11355</td>\n      <td>11356</td>\n      <td>Olivia</td>\n      <td>2004</td>\n      <td>F</td>\n      <td>AK</td>\n      <td>33</td>\n    </tr>\n    <tr>\n      <th>7</th>\n      <td>11356</td>\n      <td>11357</td>\n      <td>Isabella</td>\n      <td>2004</td>\n      <td>F</td>\n      <td>AK</td>\n      <td>30</td>\n    </tr>\n    <tr>\n      <th>8</th>\n      <td>11357</td>\n      <td>11358</td>\n      <td>Alyssa</td>\n      <td>2004</td>\n      <td>F</td>\n      <td>AK</td>\n      <td>29</td>\n    </tr>\n    <tr>\n      <th>9</th>\n      <td>11358</td>\n      <td>11359</td>\n      <td>Sophia</td>\n      <td>2004</td>\n      <td>F</td>\n      <td>AK</td>\n      <td>28</td>\n    </tr>\n  </tbody>\n</table>\n</div>"
     },
     "metadata": {},
     "execution_count": 6
    }
   ],
   "source": [
    "baby_names.head(10)"
   ]
  },
  {
   "cell_type": "markdown",
   "metadata": {},
   "source": [
    "### Step 5. Delete the column 'Unnamed: 0' and 'Id'"
   ]
  },
  {
   "cell_type": "code",
   "execution_count": 40,
   "metadata": {
    "collapsed": false
   },
   "outputs": [
    {
     "output_type": "execute_result",
     "data": {
      "text/plain": [
       "          Name  Year Gender State  Count\n",
       "33       Riley  2004      F    AK     17\n",
       "255      Riley  2005      F    AK     13\n",
       "530      Riley  2006      F    AK      8\n",
       "669      Riley  2007      F    AK     17\n",
       "871      Riley  2008      F    AK     17\n",
       "...        ...   ...    ...   ...    ...\n",
       "1015597  Riley  2010      M    WY     11\n",
       "1015769  Riley  2011      M    WY     12\n",
       "1015973  Riley  2012      M    WY      8\n",
       "1016154  Riley  2013      M    WY      7\n",
       "1016273  Riley  2014      M    WY     12\n",
       "\n",
       "[1112 rows x 5 columns]"
      ],
      "text/html": "<div>\n<style scoped>\n    .dataframe tbody tr th:only-of-type {\n        vertical-align: middle;\n    }\n\n    .dataframe tbody tr th {\n        vertical-align: top;\n    }\n\n    .dataframe thead th {\n        text-align: right;\n    }\n</style>\n<table border=\"1\" class=\"dataframe\">\n  <thead>\n    <tr style=\"text-align: right;\">\n      <th></th>\n      <th>Name</th>\n      <th>Year</th>\n      <th>Gender</th>\n      <th>State</th>\n      <th>Count</th>\n    </tr>\n  </thead>\n  <tbody>\n    <tr>\n      <th>33</th>\n      <td>Riley</td>\n      <td>2004</td>\n      <td>F</td>\n      <td>AK</td>\n      <td>17</td>\n    </tr>\n    <tr>\n      <th>255</th>\n      <td>Riley</td>\n      <td>2005</td>\n      <td>F</td>\n      <td>AK</td>\n      <td>13</td>\n    </tr>\n    <tr>\n      <th>530</th>\n      <td>Riley</td>\n      <td>2006</td>\n      <td>F</td>\n      <td>AK</td>\n      <td>8</td>\n    </tr>\n    <tr>\n      <th>669</th>\n      <td>Riley</td>\n      <td>2007</td>\n      <td>F</td>\n      <td>AK</td>\n      <td>17</td>\n    </tr>\n    <tr>\n      <th>871</th>\n      <td>Riley</td>\n      <td>2008</td>\n      <td>F</td>\n      <td>AK</td>\n      <td>17</td>\n    </tr>\n    <tr>\n      <th>...</th>\n      <td>...</td>\n      <td>...</td>\n      <td>...</td>\n      <td>...</td>\n      <td>...</td>\n    </tr>\n    <tr>\n      <th>1015597</th>\n      <td>Riley</td>\n      <td>2010</td>\n      <td>M</td>\n      <td>WY</td>\n      <td>11</td>\n    </tr>\n    <tr>\n      <th>1015769</th>\n      <td>Riley</td>\n      <td>2011</td>\n      <td>M</td>\n      <td>WY</td>\n      <td>12</td>\n    </tr>\n    <tr>\n      <th>1015973</th>\n      <td>Riley</td>\n      <td>2012</td>\n      <td>M</td>\n      <td>WY</td>\n      <td>8</td>\n    </tr>\n    <tr>\n      <th>1016154</th>\n      <td>Riley</td>\n      <td>2013</td>\n      <td>M</td>\n      <td>WY</td>\n      <td>7</td>\n    </tr>\n    <tr>\n      <th>1016273</th>\n      <td>Riley</td>\n      <td>2014</td>\n      <td>M</td>\n      <td>WY</td>\n      <td>12</td>\n    </tr>\n  </tbody>\n</table>\n<p>1112 rows × 5 columns</p>\n</div>"
     },
     "metadata": {},
     "execution_count": 40
    }
   ],
   "source": [
    "baby_names = baby_names[['Name', 'Year', 'Gender', 'State', 'Count']]\n",
    "baby_names"
   ]
  },
  {
   "cell_type": "markdown",
   "metadata": {},
   "source": [
    "### Step 6. Is there more male or female names in the dataset?"
   ]
  },
  {
   "cell_type": "code",
   "execution_count": 15,
   "metadata": {
    "collapsed": false
   },
   "outputs": [
    {
     "output_type": "stream",
     "name": "stdout",
     "text": [
      "-101297\n"
     ]
    }
   ],
   "source": [
    "nmale = np.sum(baby_names.Gender == 'M')\n",
    "nfem = np.sum(baby_names.Gender == 'F')\n",
    "print(nmale-nfem) # 100k more females"
   ]
  },
  {
   "cell_type": "markdown",
   "metadata": {},
   "source": [
    "### Step 7. Group the dataset by name and assign to names"
   ]
  },
  {
   "cell_type": "code",
   "execution_count": 18,
   "metadata": {
    "collapsed": false
   },
   "outputs": [],
   "source": [
    "names = baby_names.groupby('Name')"
   ]
  },
  {
   "cell_type": "markdown",
   "metadata": {},
   "source": [
    "### Step 8. How many different names exist in the dataset?"
   ]
  },
  {
   "cell_type": "code",
   "execution_count": 33,
   "metadata": {
    "collapsed": false
   },
   "outputs": [
    {
     "output_type": "execute_result",
     "data": {
      "text/plain": [
       "17632"
      ]
     },
     "metadata": {},
     "execution_count": 33
    }
   ],
   "source": [
    "len(names) # I don't really get why python has this built in len() but you can't call .length(). I mean, I know why, but like — why would they do it like that.\n"
   ]
  },
  {
   "cell_type": "code",
   "execution_count": 34,
   "metadata": {},
   "outputs": [
    {
     "output_type": "execute_result",
     "data": {
      "text/plain": [
       "17632"
      ]
     },
     "metadata": {},
     "execution_count": 34
    }
   ],
   "source": [
    "baby_names.Name.unique().size # alternatively, avoiding the groupby"
   ]
  },
  {
   "cell_type": "code",
   "execution_count": 39,
   "metadata": {},
   "outputs": [
    {
     "output_type": "execute_result",
     "data": {
      "text/plain": [
       "           Year  Count\n",
       "Name                  \n",
       "Aaban      4027     12\n",
       "Aadan      8039     23\n",
       "Aadarsh    2009      5\n",
       "Aaden    393963   3426\n",
       "Aadhav     2014      6\n",
       "...         ...    ...\n",
       "Zyra      14085     42\n",
       "Zyrah      4024     11\n",
       "Zyren      2013      6\n",
       "Zyria     20089     59\n",
       "Zyriah    18087     58\n",
       "\n",
       "[17632 rows x 2 columns]"
      ],
      "text/html": "<div>\n<style scoped>\n    .dataframe tbody tr th:only-of-type {\n        vertical-align: middle;\n    }\n\n    .dataframe tbody tr th {\n        vertical-align: top;\n    }\n\n    .dataframe thead th {\n        text-align: right;\n    }\n</style>\n<table border=\"1\" class=\"dataframe\">\n  <thead>\n    <tr style=\"text-align: right;\">\n      <th></th>\n      <th>Year</th>\n      <th>Count</th>\n    </tr>\n    <tr>\n      <th>Name</th>\n      <th></th>\n      <th></th>\n    </tr>\n  </thead>\n  <tbody>\n    <tr>\n      <th>Aaban</th>\n      <td>4027</td>\n      <td>12</td>\n    </tr>\n    <tr>\n      <th>Aadan</th>\n      <td>8039</td>\n      <td>23</td>\n    </tr>\n    <tr>\n      <th>Aadarsh</th>\n      <td>2009</td>\n      <td>5</td>\n    </tr>\n    <tr>\n      <th>Aaden</th>\n      <td>393963</td>\n      <td>3426</td>\n    </tr>\n    <tr>\n      <th>Aadhav</th>\n      <td>2014</td>\n      <td>6</td>\n    </tr>\n    <tr>\n      <th>...</th>\n      <td>...</td>\n      <td>...</td>\n    </tr>\n    <tr>\n      <th>Zyra</th>\n      <td>14085</td>\n      <td>42</td>\n    </tr>\n    <tr>\n      <th>Zyrah</th>\n      <td>4024</td>\n      <td>11</td>\n    </tr>\n    <tr>\n      <th>Zyren</th>\n      <td>2013</td>\n      <td>6</td>\n    </tr>\n    <tr>\n      <th>Zyria</th>\n      <td>20089</td>\n      <td>59</td>\n    </tr>\n    <tr>\n      <th>Zyriah</th>\n      <td>18087</td>\n      <td>58</td>\n    </tr>\n  </tbody>\n</table>\n<p>17632 rows × 2 columns</p>\n</div>"
     },
     "metadata": {},
     "execution_count": 39
    }
   ],
   "source": [
    "names.sum()"
   ]
  },
  {
   "cell_type": "markdown",
   "metadata": {},
   "source": [
    "### Step 9. What is the name with most occurrences?"
   ]
  },
  {
   "cell_type": "code",
   "execution_count": 45,
   "metadata": {
    "collapsed": false
   },
   "outputs": [
    {
     "output_type": "execute_result",
     "data": {
      "text/plain": [
       "Name\n",
       "Destenie         5\n",
       "Janisha          5\n",
       "Lizvet           5\n",
       "Arsalan          5\n",
       "Janira           5\n",
       "             ...  \n",
       "Isabella    204798\n",
       "Ethan       209277\n",
       "Michael     214405\n",
       "Emma        214852\n",
       "Jacob       242874\n",
       "Name: Count, Length: 17632, dtype: int64"
      ]
     },
     "metadata": {},
     "execution_count": 45
    }
   ],
   "source": [
    "counts = names.sum().Count.sort_values() # Jacob\n",
    "counts"
   ]
  },
  {
   "cell_type": "markdown",
   "metadata": {},
   "source": [
    "### Step 10. How many different names have the least occurrences?"
   ]
  },
  {
   "cell_type": "code",
   "execution_count": 46,
   "metadata": {
    "collapsed": false
   },
   "outputs": [
    {
     "output_type": "execute_result",
     "data": {
      "text/plain": [
       "2578"
      ]
     },
     "metadata": {},
     "execution_count": 46
    }
   ],
   "source": [
    "sum(counts == 5)"
   ]
  },
  {
   "cell_type": "markdown",
   "metadata": {},
   "source": [
    "### Step 11. What is the median name occurrence?"
   ]
  },
  {
   "cell_type": "code",
   "execution_count": 47,
   "metadata": {
    "collapsed": false
   },
   "outputs": [
    {
     "output_type": "execute_result",
     "data": {
      "text/plain": [
       "49.0"
      ]
     },
     "metadata": {},
     "execution_count": 47
    }
   ],
   "source": [
    "np.median(counts)"
   ]
  },
  {
   "cell_type": "markdown",
   "metadata": {},
   "source": [
    "### Step 12. What is the standard deviation of names?"
   ]
  },
  {
   "cell_type": "code",
   "execution_count": 48,
   "metadata": {
    "collapsed": false
   },
   "outputs": [
    {
     "output_type": "execute_result",
     "data": {
      "text/plain": [
       "11005.757358500687"
      ]
     },
     "metadata": {},
     "execution_count": 48
    }
   ],
   "source": [
    "np.std(counts)"
   ]
  },
  {
   "cell_type": "markdown",
   "metadata": {},
   "source": [
    "### Step 13. Get a summary with the mean, min, max, std and quartiles."
   ]
  },
  {
   "cell_type": "code",
   "execution_count": 51,
   "metadata": {
    "collapsed": false
   },
   "outputs": [
    {
     "output_type": "execute_result",
     "data": {
      "text/plain": [
       "count     17632.000000\n",
       "mean       2008.932169\n",
       "std       11006.069468\n",
       "min           5.000000\n",
       "25%          11.000000\n",
       "50%          49.000000\n",
       "75%         337.000000\n",
       "max      242874.000000\n",
       "Name: Count, dtype: float64"
      ]
     },
     "metadata": {},
     "execution_count": 51
    }
   ],
   "source": [
    "counts.describe()"
   ]
  },
  {
   "cell_type": "code",
   "execution_count": null,
   "metadata": {},
   "outputs": [],
   "source": []
  }
 ],
 "metadata": {
  "anaconda-cloud": {},
  "kernelspec": {
   "name": "python3",
   "display_name": "Python 3.8.3 64-bit ('base': conda)",
   "metadata": {
    "interpreter": {
     "hash": "9fe336409bf8d1c21a3bedb40a72035b066e16950eddbec83b6c8b74e32600ee"
    }
   }
  },
  "language_info": {
   "codemirror_mode": {
    "name": "ipython",
    "version": 2
   },
   "file_extension": ".py",
   "mimetype": "text/x-python",
   "name": "python",
   "nbconvert_exporter": "python",
   "pygments_lexer": "ipython2",
   "version": "3.8.3"
  }
 },
 "nbformat": 4,
 "nbformat_minor": 0
}